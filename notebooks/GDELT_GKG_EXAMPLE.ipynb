{
 "cells": [
  {
   "cell_type": "code",
   "execution_count": 1,
   "metadata": {},
   "outputs": [
    {
     "name": "stderr",
     "output_type": "stream",
     "text": [
      "/Users/damithasanka/PycharmProjects/gdelt/venv/lib/python3.10/site-packages/umap/distances.py:1063: NumbaDeprecationWarning: The 'nopython' keyword argument was not supplied to the 'numba.jit' decorator. The implicit default value for this argument is currently False, but it will be changed to True in Numba 0.59.0. See https://numba.readthedocs.io/en/stable/reference/deprecation.html#deprecation-of-object-mode-fall-back-behaviour-when-using-jit for details.\n",
      "  @numba.jit()\n",
      "/Users/damithasanka/PycharmProjects/gdelt/venv/lib/python3.10/site-packages/umap/distances.py:1071: NumbaDeprecationWarning: The 'nopython' keyword argument was not supplied to the 'numba.jit' decorator. The implicit default value for this argument is currently False, but it will be changed to True in Numba 0.59.0. See https://numba.readthedocs.io/en/stable/reference/deprecation.html#deprecation-of-object-mode-fall-back-behaviour-when-using-jit for details.\n",
      "  @numba.jit()\n",
      "/Users/damithasanka/PycharmProjects/gdelt/venv/lib/python3.10/site-packages/umap/distances.py:1086: NumbaDeprecationWarning: The 'nopython' keyword argument was not supplied to the 'numba.jit' decorator. The implicit default value for this argument is currently False, but it will be changed to True in Numba 0.59.0. See https://numba.readthedocs.io/en/stable/reference/deprecation.html#deprecation-of-object-mode-fall-back-behaviour-when-using-jit for details.\n",
      "  @numba.jit()\n",
      "/Users/damithasanka/PycharmProjects/gdelt/venv/lib/python3.10/site-packages/umap/umap_.py:660: NumbaDeprecationWarning: The 'nopython' keyword argument was not supplied to the 'numba.jit' decorator. The implicit default value for this argument is currently False, but it will be changed to True in Numba 0.59.0. See https://numba.readthedocs.io/en/stable/reference/deprecation.html#deprecation-of-object-mode-fall-back-behaviour-when-using-jit for details.\n",
      "  @numba.jit()\n"
     ]
    }
   ],
   "source": [
    "import os\n",
    "from google.cloud import bigquery\n",
    "import pandas as pd\n",
    "# import matplotlib\n",
    "# matplotlib.use('TkAgg')\n",
    "import matplotlib.pyplot as plt\n",
    "import numpy as np\n",
    "from sklearn.preprocessing import LabelEncoder\n",
    "from scipy.sparse import csr_matrix, coo_matrix\n",
    "\n",
    "from src.util.preprocess import get_connectivity\n",
    "from src.util.visualization import visualize_graph"
   ]
  },
  {
   "cell_type": "code",
   "execution_count": 2,
   "metadata": {
    "collapsed": false,
    "jupyter": {
     "outputs_hidden": false
    }
   },
   "outputs": [],
   "source": [
    "%matplotlib inline\n",
    "import mpld3\n",
    "mpld3.enable_notebook()\n",
    "os.environ['GOOGLE_APPLICATION_CREDENTIALS'] = str('../access/apikey.json')\n"
   ]
  },
  {
   "cell_type": "code",
   "execution_count": 3,
   "metadata": {
    "collapsed": false,
    "jupyter": {
     "outputs_hidden": false
    }
   },
   "outputs": [],
   "source": [
    "client = bigquery.Client()\n",
    "\n",
    "QUERY = (\"SELECT GKGRECORDID, V2Persons FROM `gdelt-bq.gdeltv2.gkg` WHERE DATE>20230701000000 and DATE < 20230715000000 and V2Persons like '%Albanese%' and V2Locations like '%Australia%' limit 250;\")"
   ]
  },
  {
   "cell_type": "code",
   "execution_count": 4,
   "metadata": {
    "collapsed": false,
    "jupyter": {
     "outputs_hidden": false
    }
   },
   "outputs": [],
   "source": [
    "data_frame = pd.read_gbq(QUERY)"
   ]
  },
  {
   "cell_type": "code",
   "execution_count": 5,
   "metadata": {
    "collapsed": false,
    "jupyter": {
     "outputs_hidden": false
    }
   },
   "outputs": [
    {
     "data": {
      "text/plain": "           GKGRECORDID                                          V2Persons\n0   20230713140000-655             Anthony Albanese,476;Chau Van Kham,197\n1    20230713140000-18  Jens Stoltenberg,1970;Jens Stoltenberg,4613;Je...\n2  20230713140000-1842  Vyacheslav Volodin,5321;Anthony Albanese,14831...\n3  20230713141500-1894              Chau Van Kham,37;Anthony Albanese,316\n4  20230713141500-1288  Asean Yohannes Abraham,3015;Anthony Albanese,3...",
      "text/html": "<div>\n<style scoped>\n    .dataframe tbody tr th:only-of-type {\n        vertical-align: middle;\n    }\n\n    .dataframe tbody tr th {\n        vertical-align: top;\n    }\n\n    .dataframe thead th {\n        text-align: right;\n    }\n</style>\n<table border=\"1\" class=\"dataframe\">\n  <thead>\n    <tr style=\"text-align: right;\">\n      <th></th>\n      <th>GKGRECORDID</th>\n      <th>V2Persons</th>\n    </tr>\n  </thead>\n  <tbody>\n    <tr>\n      <th>0</th>\n      <td>20230713140000-655</td>\n      <td>Anthony Albanese,476;Chau Van Kham,197</td>\n    </tr>\n    <tr>\n      <th>1</th>\n      <td>20230713140000-18</td>\n      <td>Jens Stoltenberg,1970;Jens Stoltenberg,4613;Je...</td>\n    </tr>\n    <tr>\n      <th>2</th>\n      <td>20230713140000-1842</td>\n      <td>Vyacheslav Volodin,5321;Anthony Albanese,14831...</td>\n    </tr>\n    <tr>\n      <th>3</th>\n      <td>20230713141500-1894</td>\n      <td>Chau Van Kham,37;Anthony Albanese,316</td>\n    </tr>\n    <tr>\n      <th>4</th>\n      <td>20230713141500-1288</td>\n      <td>Asean Yohannes Abraham,3015;Anthony Albanese,3...</td>\n    </tr>\n  </tbody>\n</table>\n</div>"
     },
     "execution_count": 5,
     "metadata": {},
     "output_type": "execute_result"
    }
   ],
   "source": [
    "data_frame.head()"
   ]
  },
  {
   "cell_type": "code",
   "execution_count": null,
   "metadata": {
    "collapsed": false,
    "jupyter": {
     "outputs_hidden": false
    },
    "pycharm": {
     "is_executing": true
    }
   },
   "outputs": [
    {
     "name": "stdout",
     "output_type": "stream",
     "text": [
      " n(entries) = 250\n",
      "215/250"
     ]
    }
   ],
   "source": [
    "connection_database = (get_connectivity(data_frame))\n"
   ]
  },
  {
   "cell_type": "code",
   "execution_count": null,
   "metadata": {
    "collapsed": false,
    "jupyter": {
     "outputs_hidden": false
    },
    "pycharm": {
     "is_executing": true
    }
   },
   "outputs": [],
   "source": [
    "connection_database.to_csv('../data/processed/connection_dataset.csv')\n",
    "edge_counts = connection_database.groupby(['Source', 'Target']).size().reset_index().rename(columns = {0:'count'})\n",
    "edge_counts.to_csv('../data/processed/edge_counts.csv', index_label='ix')\n",
    "edge_counts.head()"
   ]
  },
  {
   "cell_type": "code",
   "execution_count": null,
   "metadata": {
    "collapsed": false,
    "jupyter": {
     "outputs_hidden": false
    },
    "pycharm": {
     "is_executing": true
    }
   },
   "outputs": [],
   "source": [
    "weights = edge_counts['count'].values.astype(float)\n",
    "weights /= weights.max()\n",
    "\n",
    "edge_counts.insert(3, 'weight', weights)\n",
    "edge_counts.to_csv('processed_edges.csv', index=None)"
   ]
  },
  {
   "cell_type": "code",
   "execution_count": null,
   "metadata": {
    "collapsed": false,
    "jupyter": {
     "outputs_hidden": false
    },
    "pycharm": {
     "is_executing": true
    }
   },
   "outputs": [],
   "source": [
    "edge_counts = pd.read_csv('../data/processed/processed_edges.csv')\n",
    "plt.hist(edge_counts['count'].values, bins=range(min(edge_counts['count'].values), max(edge_counts['count'].values) + 5, 5))\n",
    "plt.title('co-occurence of the name pairs')\n",
    "plt.show()\n",
    "\n",
    "\n",
    "data = edge_counts.drop(edge_counts[edge_counts['count']<5].index)\n",
    "plt.hist(data['count'].values, bins=range(min(data['count'].values), max(data['count'].values) + 5, 5))\n",
    "plt.title('co-occurence of the name pairs; pruned')\n",
    "plt.show()"
   ]
  },
  {
   "cell_type": "code",
   "execution_count": null,
   "metadata": {
    "collapsed": false,
    "jupyter": {
     "outputs_hidden": false
    },
    "pycharm": {
     "is_executing": true
    }
   },
   "outputs": [],
   "source": [
    "# sum_outgoing_edges = edge_counts.groupby('Target')['count'].transform('sum')\n",
    "# sum_outgoing_edges"
   ]
  },
  {
   "cell_type": "code",
   "execution_count": null,
   "metadata": {
    "collapsed": false,
    "jupyter": {
     "outputs_hidden": false
    },
    "pycharm": {
     "is_executing": true
    }
   },
   "outputs": [],
   "source": [
    "# df_sorted = edge_counts.groupby('Source').apply(lambda x: x.sort_values('count', ascending=False))\n",
    "# df_sorted"
   ]
  },
  {
   "cell_type": "code",
   "execution_count": null,
   "metadata": {
    "collapsed": false,
    "jupyter": {
     "outputs_hidden": false
    },
    "pycharm": {
     "is_executing": true
    }
   },
   "outputs": [],
   "source": [
    "# df_sorted = edge_counts.sort_values(by=['Target', 'weight'], ascending=[True, False])\n",
    "#\n",
    "# # Take the top 5 rows for each 'source' group\n",
    "# df_filtered = df_sorted.groupby('Target').head(5).reset_index(drop=True)"
   ]
  },
  {
   "cell_type": "code",
   "execution_count": null,
   "metadata": {
    "collapsed": false,
    "jupyter": {
     "outputs_hidden": false
    },
    "pycharm": {
     "is_executing": true
    }
   },
   "outputs": [],
   "source": [
    "le = LabelEncoder()\n",
    "le.fit(np.union1d(data.Source.values, data.Target.values))\n"
   ]
  },
  {
   "cell_type": "code",
   "execution_count": null,
   "metadata": {
    "collapsed": false,
    "jupyter": {
     "outputs_hidden": false
    },
    "pycharm": {
     "is_executing": true
    }
   },
   "outputs": [],
   "source": [
    "sources = le.transform(data.Source.values)\n",
    "targets = le.transform(data.Target.values)"
   ]
  },
  {
   "cell_type": "code",
   "execution_count": null,
   "metadata": {
    "collapsed": false,
    "jupyter": {
     "outputs_hidden": false
    },
    "pycharm": {
     "is_executing": true
    }
   },
   "outputs": [],
   "source": [
    "adj_mat = csr_matrix(coo_matrix( (data.weight.values, (sources, targets))))\n",
    "adj_mat += adj_mat.T\n",
    "adj_mat /= 2.\n",
    "adj_mat[adj_mat < adj_mat.max()*0.05] = 0\n",
    "print(adj_mat.shape)"
   ]
  },
  {
   "cell_type": "code",
   "execution_count": null,
   "metadata": {
    "collapsed": false,
    "jupyter": {
     "outputs_hidden": false
    },
    "pycharm": {
     "is_executing": true
    }
   },
   "outputs": [],
   "source": [
    "plt.ioff()\n",
    "visualize_graph(adj_mat, np.union1d(data.Source.values, data.Target.values), le.transform(np.union1d(data.Source.values, data.Target.values)))\n",
    "\n"
   ]
  },
  {
   "cell_type": "markdown",
   "metadata": {
    "collapsed": false,
    "jupyter": {
     "outputs_hidden": false
    }
   },
   "source": [
    "Let's sparsify the graph a bit more so that we can see clearer"
   ]
  },
  {
   "cell_type": "code",
   "execution_count": null,
   "metadata": {
    "collapsed": false,
    "jupyter": {
     "outputs_hidden": false
    },
    "pycharm": {
     "is_executing": true
    }
   },
   "outputs": [],
   "source": [
    "adj_mat = adj_mat.toarray()"
   ]
  },
  {
   "cell_type": "code",
   "execution_count": null,
   "metadata": {
    "collapsed": false,
    "jupyter": {
     "outputs_hidden": false
    },
    "pycharm": {
     "is_executing": true
    }
   },
   "outputs": [],
   "source": [
    "for i in range(adj_mat.shape[0]):\n",
    "    row = adj_mat[i]\n",
    "    sorted_indices = np.argsort(row)\n",
    "    cutoff = np.argsort(row)[2]\n",
    "    # print(cutoff)\n",
    "    # print(adj_mat[i])\n",
    "    adj_mat[i][adj_mat[i]>cutoff] = 0\n",
    "    adj_mat[:, i][adj_mat[i]>cutoff]=0\n",
    "    # print(adj_mat[i])"
   ]
  },
  {
   "cell_type": "code",
   "execution_count": null,
   "metadata": {
    "collapsed": false,
    "jupyter": {
     "outputs_hidden": false
    },
    "pycharm": {
     "is_executing": true
    }
   },
   "outputs": [],
   "source": [
    "adj_mat = csr_matrix(adj_mat)"
   ]
  },
  {
   "cell_type": "code",
   "execution_count": null,
   "metadata": {
    "collapsed": false,
    "jupyter": {
     "outputs_hidden": false
    },
    "pycharm": {
     "is_executing": true
    }
   },
   "outputs": [],
   "source": [
    "visualize_graph(adj_mat, np.union1d(data.Source.values, data.Target.values), le.transform(np.union1d(data.Source.values, data.Target.values)))"
   ]
  },
  {
   "cell_type": "code",
   "execution_count": null,
   "metadata": {
    "collapsed": false,
    "jupyter": {
     "outputs_hidden": false
    },
    "pycharm": {
     "is_executing": true
    }
   },
   "outputs": [],
   "source": []
  }
 ],
 "metadata": {
  "kernelspec": {
   "display_name": "Python 3 (ipykernel)",
   "language": "python",
   "name": "python3"
  },
  "language_info": {
   "codemirror_mode": {
    "name": "ipython",
    "version": 3
   },
   "file_extension": ".py",
   "mimetype": "text/x-python",
   "name": "python",
   "nbconvert_exporter": "python",
   "pygments_lexer": "ipython3",
   "version": "3.10.7"
  }
 },
 "nbformat": 4,
 "nbformat_minor": 4
}
