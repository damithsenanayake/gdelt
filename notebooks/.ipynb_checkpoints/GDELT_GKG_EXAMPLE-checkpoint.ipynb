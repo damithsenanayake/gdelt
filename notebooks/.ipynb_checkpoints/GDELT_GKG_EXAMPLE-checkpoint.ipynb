{
 "cells": [
  {
   "cell_type": "code",
   "execution_count": 53,
   "metadata": {
    "collapsed": true
   },
   "outputs": [],
   "source": [
    "import os\n",
    "from google.cloud import bigquery\n",
    "import pandas as pd\n",
    "# import matplotlib\n",
    "# matplotlib.use('Qt5Agg')\n",
    "import matplotlib.pyplot as plt\n",
    "import numpy as np\n",
    "from sklearn.preprocessing import LabelEncoder\n",
    "from scipy.sparse import csr_matrix, coo_matrix\n",
    "\n",
    "from src.util.preprocess import get_connectivity\n",
    "from src.util.visualization import visualize_graph"
   ]
  },
  {
   "cell_type": "code",
   "execution_count": 54,
   "outputs": [],
   "source": [
    "%matplotlib inline\n",
    "import mpld3\n",
    "mpld3.enable_notebook()\n",
    "os.environ['GOOGLE_APPLICATION_CREDENTIALS'] = str('../access/apikey.json')\n"
   ],
   "metadata": {
    "collapsed": false
   }
  },
  {
   "cell_type": "code",
   "execution_count": 55,
   "outputs": [],
   "source": [
    "import PyQt6"
   ],
   "metadata": {
    "collapsed": false
   }
  },
  {
   "cell_type": "code",
   "execution_count": 56,
   "outputs": [],
   "source": [
    "client = bigquery.Client()\n",
    "\n",
    "QUERY = (\"SELECT GKGRECORDID, V2Persons FROM `gdelt-bq.gdeltv2.gkg` WHERE DATE>20230701000000 and DATE < 20230715000000 and V2Persons like '%Albanese%' and V2Locations like '%Australia%' limit 250;\")"
   ],
   "metadata": {
    "collapsed": false
   }
  },
  {
   "cell_type": "code",
   "execution_count": null,
   "outputs": [],
   "source": [
    "data_frame = pd.read_gbq(QUERY)"
   ],
   "metadata": {
    "collapsed": false,
    "pycharm": {
     "is_executing": true
    }
   }
  },
  {
   "cell_type": "code",
   "execution_count": null,
   "outputs": [],
   "source": [
    "data_frame.head()"
   ],
   "metadata": {
    "collapsed": false,
    "pycharm": {
     "is_executing": true
    }
   }
  },
  {
   "cell_type": "code",
   "execution_count": null,
   "outputs": [],
   "source": [
    "connection_database = (get_connectivity(data_frame))\n"
   ],
   "metadata": {
    "collapsed": false,
    "pycharm": {
     "is_executing": true
    }
   }
  },
  {
   "cell_type": "code",
   "execution_count": null,
   "outputs": [],
   "source": [
    "connection_database.to_csv('../data/processed/connection_dataset.csv')\n",
    "edge_counts = connection_database.groupby(['Source', 'Target']).size().reset_index().rename(columns = {0:'count'})\n",
    "edge_counts.to_csv('../data/processed/edge_counts.csv', index_label='ix')\n",
    "edge_counts.head()"
   ],
   "metadata": {
    "collapsed": false,
    "pycharm": {
     "is_executing": true
    }
   }
  },
  {
   "cell_type": "code",
   "execution_count": null,
   "outputs": [],
   "source": [
    "weights = edge_counts['count'].values.astype(float)\n",
    "weights /= weights.max()\n",
    "\n",
    "edge_counts.insert(3, 'weight', weights)\n",
    "edge_counts.to_csv('processed_edges.csv', index=None)"
   ],
   "metadata": {
    "collapsed": false,
    "pycharm": {
     "is_executing": true
    }
   }
  },
  {
   "cell_type": "code",
   "execution_count": null,
   "outputs": [],
   "source": [
    "edge_counts = pd.read_csv('../data/processed/processed_edges.csv')\n",
    "plt.hist(edge_counts['count'].values, bins=range(min(edge_counts['count'].values), max(edge_counts['count'].values) + 5, 5))\n",
    "plt.title('co-occurence of the name pairs')\n",
    "plt.show()\n",
    "\n",
    "\n",
    "data = edge_counts.drop(edge_counts[edge_counts['count']<5].index)\n",
    "plt.hist(data['count'].values, bins=range(min(data['count'].values), max(data['count'].values) + 5, 5))\n",
    "plt.title('co-occurence of the name pairs; pruned')\n",
    "plt.show()"
   ],
   "metadata": {
    "collapsed": false,
    "pycharm": {
     "is_executing": true
    }
   }
  },
  {
   "cell_type": "code",
   "execution_count": null,
   "outputs": [],
   "source": [
    "# sum_outgoing_edges = edge_counts.groupby('Target')['count'].transform('sum')\n",
    "# sum_outgoing_edges"
   ],
   "metadata": {
    "collapsed": false,
    "pycharm": {
     "is_executing": true
    }
   }
  },
  {
   "cell_type": "code",
   "execution_count": null,
   "outputs": [],
   "source": [
    "# df_sorted = edge_counts.groupby('Source').apply(lambda x: x.sort_values('count', ascending=False))\n",
    "# df_sorted"
   ],
   "metadata": {
    "collapsed": false,
    "pycharm": {
     "is_executing": true
    }
   }
  },
  {
   "cell_type": "code",
   "execution_count": null,
   "outputs": [],
   "source": [
    "# df_sorted = edge_counts.sort_values(by=['Target', 'weight'], ascending=[True, False])\n",
    "#\n",
    "# # Take the top 5 rows for each 'source' group\n",
    "# df_filtered = df_sorted.groupby('Target').head(5).reset_index(drop=True)"
   ],
   "metadata": {
    "collapsed": false,
    "pycharm": {
     "is_executing": true
    }
   }
  },
  {
   "cell_type": "code",
   "execution_count": null,
   "outputs": [],
   "source": [
    "le = LabelEncoder()\n",
    "le.fit(np.union1d(data.Source.values, data.Target.values))\n"
   ],
   "metadata": {
    "collapsed": false,
    "pycharm": {
     "is_executing": true
    }
   }
  },
  {
   "cell_type": "code",
   "execution_count": null,
   "outputs": [],
   "source": [
    "sources = le.transform(data.Source.values)\n",
    "targets = le.transform(data.Target.values)"
   ],
   "metadata": {
    "collapsed": false,
    "pycharm": {
     "is_executing": true
    }
   }
  },
  {
   "cell_type": "code",
   "execution_count": null,
   "outputs": [],
   "source": [
    "adj_mat = csr_matrix(coo_matrix( (data.weight.values, (sources, targets))))\n",
    "adj_mat += adj_mat.T\n",
    "adj_mat /= 2.\n",
    "# adj_mat[adj_mat < adj_mat.max()*0.5] = 0\n",
    "print(adj_mat.shape)"
   ],
   "metadata": {
    "collapsed": false,
    "pycharm": {
     "is_executing": true
    }
   }
  },
  {
   "cell_type": "code",
   "execution_count": null,
   "outputs": [],
   "source": [
    "visualize_graph(adj_mat, np.union1d(data.Source.values, data.Target.values), le.transform(np.union1d(data.Source.values, data.Target.values)))\n",
    "\n"
   ],
   "metadata": {
    "collapsed": false,
    "pycharm": {
     "is_executing": true
    }
   }
  },
  {
   "cell_type": "markdown",
   "source": [
    "Let's sparsify the graph a bit more so that we can see clearer"
   ],
   "metadata": {
    "collapsed": false
   }
  },
  {
   "cell_type": "code",
   "execution_count": null,
   "outputs": [],
   "source": [
    "adj_mat = adj_mat.toarray()"
   ],
   "metadata": {
    "collapsed": false,
    "pycharm": {
     "is_executing": true
    }
   }
  },
  {
   "cell_type": "code",
   "execution_count": null,
   "outputs": [],
   "source": [
    "for i in range(adj_mat.shape[0]):\n",
    "    row = adj_mat[i]\n",
    "    sorted_indices = np.argsort(row)\n",
    "    cutoff = np.argsort(row)[2]\n",
    "    # print(cutoff)\n",
    "    # print(adj_mat[i])\n",
    "    adj_mat[i][adj_mat[i]>cutoff] = 0\n",
    "    adj_mat[:, i][adj_mat[i]>cutoff]=0\n",
    "    # print(adj_mat[i])"
   ],
   "metadata": {
    "collapsed": false,
    "pycharm": {
     "is_executing": true
    }
   }
  },
  {
   "cell_type": "code",
   "execution_count": null,
   "outputs": [],
   "source": [
    "adj_mat = csr_matrix(adj_mat)"
   ],
   "metadata": {
    "collapsed": false,
    "pycharm": {
     "is_executing": true
    }
   }
  },
  {
   "cell_type": "code",
   "execution_count": null,
   "outputs": [],
   "source": [
    "visualize_graph(adj_mat, np.union1d(data.Source.values, data.Target.values), le.transform(np.union1d(data.Source.values, data.Target.values)))"
   ],
   "metadata": {
    "collapsed": false,
    "pycharm": {
     "is_executing": true
    }
   }
  },
  {
   "cell_type": "code",
   "execution_count": null,
   "outputs": [],
   "source": [],
   "metadata": {
    "collapsed": false,
    "pycharm": {
     "is_executing": true
    }
   }
  }
 ],
 "metadata": {
  "kernelspec": {
   "display_name": "Python 3",
   "language": "python",
   "name": "python3"
  },
  "language_info": {
   "codemirror_mode": {
    "name": "ipython",
    "version": 2
   },
   "file_extension": ".py",
   "mimetype": "text/x-python",
   "name": "python",
   "nbconvert_exporter": "python",
   "pygments_lexer": "ipython2",
   "version": "2.7.6"
  }
 },
 "nbformat": 4,
 "nbformat_minor": 0
}
